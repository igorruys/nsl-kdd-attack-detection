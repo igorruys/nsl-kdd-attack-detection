{
 "cells": [
  {
   "cell_type": "code",
   "execution_count": 2,
   "id": "20ed0b3f",
   "metadata": {},
   "outputs": [],
   "source": [
    "import numpy as np\n",
    "import pandas as pd\n",
    "import matplotlib.pyplot as plt\n",
    "import seaborn as sns\n",
    "import winsound\n",
    "from sklearn.preprocessing import StandardScaler\n",
    "\n",
    "plt.rcParams['figure.figsize'] = [5, 4]\n",
    "\n",
    "#configuracoes para os plots\n",
    "plt.rc('axes', titlesize = 15)     # fontsize of the axes title\n",
    "plt.rc('axes', labelsize = 12)    # fontsize of the x and y labels\n",
    "plt.rc('xtick', labelsize = 14)    # fontsize of the tick labels\n",
    "plt.rc('ytick', labelsize = 14)    # fontsize of the tick labels\n",
    "plt.rc('legend', fontsize = 12)    # legend fontsize\n",
    "\n",
    "#Classes que englobam os ataques que estao nos dados de treinamento e nos dados de teste\n",
    "#Classes segundo thinline\n",
    "#attack_classes = {'dos':['apache2','back','land','mailbomb','neptune','pod','processtable','smurf','teardrop','udpstorm'],\n",
    "#                  'probe':['ipsweep','mscan','nmap','portsweep','saint','satan'],\n",
    "#                  'u2r':['buffer_overflow','loadmodule','perl','rootkit','httptunnel','ps','sqlattack','xterm'],\n",
    "#                  'r2l':['ftp_write','guess_passwd','imap','multihop','phf','spy','warezclient','warezmaster','sendmail','named','snmpgetattack','snmpguess','xlock','xsnoop','worm']}\n",
    "\n",
    "#Ref: Performance Analysis of NSL-KDD dataset using ANN\n",
    "attack_classes = {'dos':['apache2','back','land','mailbomb','neptune','pod','processtable','smurf','teardrop','udpstorm'],\n",
    "                  'probe':['ipsweep','mscan','nmap','portsweep','saint','satan'],\n",
    "                  'u2r':['buffer_overflow','loadmodule','perl','ps','rootkit','snmpguess','sqlattack','worm','xterm'],\n",
    "                  'r2l':['spy','warezclient','ftp_write','guess_passwd','httptunnel','imap','multihop','named','phf','sendmail','snmpgetattack','warezmaster','xlock','xsnoop']}\n"
   ]
  },
  {
   "cell_type": "markdown",
   "id": "65e22c0d",
   "metadata": {},
   "source": [
    "# Classes e funções auxiliares"
   ]
  },
  {
   "cell_type": "code",
   "execution_count": 243,
   "id": "7141b20d",
   "metadata": {},
   "outputs": [],
   "source": [
    "def beep():\n",
    "    frequency = 2500\n",
    "    duration = 1000\n",
    "    winsound.Beep(frequency, duration)\n",
    "    \n",
    "    \n",
    "def filterArray(x,y,clusts,cats=None):\n",
    "    '''\n",
    "    x: array of features\n",
    "    y: one-dimensional array of labels\n",
    "    cluts: one-dimensional array with cluster indexes for each connexion\n",
    "    Filters arrays x (features) and y (labels) according to different clusters given in cluts. It returns an list in which\n",
    "    each element is a tuple containing arrays x and y of each cluster and the index of the cluster.\n",
    "    The function by default returns a dictionary of size n, where n is the number of different clusters. If cats is specified,\n",
    "    the function return a list only containing the tuples corresponding to the cluster indexes idicated in cats, which should\n",
    "    be a lista of cluster indexes.\n",
    "    '''\n",
    "    if cats is None:\n",
    "        cats = list(np.unique(clusts))\n",
    "    arrays = {}\n",
    "    for cat in cats:\n",
    "        inds = clusts == cat\n",
    "        xFilt = x[inds]\n",
    "        yFilt = y[inds]\n",
    "        arrays[cat] = (xFilt,yFilt)\n",
    "    return arrays\n",
    "    \n",
    "def printClusters(clusters):\n",
    "    '''\n",
    "    clusters: list/array of cluster indexes. Each element corresponds to a connection.\n",
    "    The function do the count of clusters of each type and counts the number of attacks and normal connexions in each\n",
    "    cluster. It then prints a table with these counts.\n",
    "    '''\n",
    "    print(\"N | Count | Normal | Attacks\")\n",
    "    for cluster_i in clusters.keys():\n",
    "        cluster = clusters[cluster_i]\n",
    "        (u,counts)  = np.unique(cluster[1], return_counts=True)\n",
    "        if len(u) == 2:\n",
    "                tabCount = 4 - int(np.floor(np.log10(len(cluster[1]))))\n",
    "                tabNorm  = 5 - int(np.floor(np.log10(counts[0])))\n",
    "                print(cluster_i,\"|\",len(cluster[1]),\" \"*tabCount + \"|\",counts[0],\" \"*tabNorm + \"|\", counts[1])\n",
    "        else:\n",
    "            if u[0] == 0:\n",
    "                tabCount = 4 - int(np.floor(np.log10(len(cluster[1]))))\n",
    "                tabNorm  = 5 - int(np.floor(np.log10(counts[0])))\n",
    "                print(cluster_i,\"|\",len(cluster[1]),\" \"*tabCount + \"|\",counts[0],\" \"*tabNorm + \"|\", 0)\n",
    "            else:\n",
    "                tabCount = 4 - int(np.floor(np.log10(len(cluster[1]))))\n",
    "                print(cluster_i,\"|\",len(cluster[1]),\" \"*tabCount + \"|\",0,\" \"*5 + \"|\", counts[0])\n",
    "                \n",
    "def assClfsToClusters(clusters_train, AR, n_estimators=50, max_depth=20, max_features=\"sqrt\"):\n",
    "    #Contains the RF classifiers for clusters with more than 25 samples and at least 1 attack sample and 1 normal sample\n",
    "    km_rf_clfs = {}\n",
    "    #For all the other clusters, we assign a label according to the class of the majority of the samples \n",
    "    km_n_clfs  = {}\n",
    "    step = 1\n",
    "\n",
    "    filt_features = filterByAR(AR,0.05)\n",
    "    \n",
    "    rf_clf = RandomForestClassifier(n_estimators=n_estimators, max_depth=max_depth, max_features=max_features, random_state=1)\n",
    "\n",
    "    #Fill km_rf_clfs with Random Forest classifiers for each cluster and km_n_clfs with the corresponding label\n",
    "    for cluster_i in clusters_train.keys():\n",
    "        print(\"Step \",step)\n",
    "\n",
    "        x = clusters_train[cluster_i][0][filt_features] #features of current cluster\n",
    "        y = clusters_train[cluster_i][1] #labels of current cluster\n",
    "        m = len(y) #number of samples in current cluster\n",
    "\n",
    "        (unique,counts)  = np.unique(y, return_counts=True)\n",
    "\n",
    "        if m > 25 and len(unique) == 2:\n",
    "            rf_clf.fit(x,y)\n",
    "            km_rf_clfs[cluster_i] = rf_clf\n",
    "        else:\n",
    "            if m <= 25:\n",
    "                km_n_clfs[cluster_i] = 1\n",
    "            elif len(y[y==0]) > len(y[y==1]):\n",
    "                km_n_clfs[cluster_i] = 0\n",
    "            else:\n",
    "                km_n_clfs[cluster_i] = 1\n",
    "\n",
    "        step += 1\n",
    "    return (km_rf_clfs,km_n_clfs)\n",
    "\n",
    "\n",
    "def assClfsToClusters2(clusters_train, n_estimators=50, max_depth=20, max_features=\"sqrt\", random_state=1):\n",
    "    #Contains the RF classifiers for clusters with more than 25 samples and at least 1 attack sample and 1 normal sample\n",
    "    km_rf_clfs = {}\n",
    "    #For all the other clusters, we assign a label according to the class of the majority of the samples \n",
    "    km_n_clfs  = {}\n",
    "    step = 1\n",
    "\n",
    "    filt_features = features_sc\n",
    "    \n",
    "    rf_clf = RandomForestClassifier(n_estimators=n_estimators, max_depth=max_depth, max_features=max_features, random_state=random_state)\n",
    "\n",
    "    #Fill km_rf_clfs with Random Forest classifiers for each cluster and km_n_clfs with the corresponding label\n",
    "    for cluster_i in clusters_train.keys():\n",
    "        print(\"Step \",step)\n",
    "\n",
    "        x = clusters_train[cluster_i][0][filt_features] #features of current cluster\n",
    "        y = clusters_train[cluster_i][1] #labels of current cluster\n",
    "        m = len(y) #number of samples in current cluster\n",
    "\n",
    "        (unique,counts)  = np.unique(y, return_counts=True)\n",
    "\n",
    "        if m > 25 and len(unique) == 2:\n",
    "            rf_clf.fit(x,y)\n",
    "            km_rf_clfs[cluster_i] = rf_clf\n",
    "        else:\n",
    "            if m <= 25:\n",
    "                km_n_clfs[cluster_i] = 1\n",
    "            elif len(y[y==0]) > len(y[y==1]):\n",
    "                km_n_clfs[cluster_i] = 0\n",
    "            else:\n",
    "                km_n_clfs[cluster_i] = 1\n",
    "\n",
    "        step += 1\n",
    "    return (km_rf_clfs,km_n_clfs)\n",
    "\n",
    "\n",
    "def clustersPredict(x,clusters_ind,km_rf_clfs,km_n_clfs):\n",
    "    \n",
    "    y_prob = np.ones(np.shape(x)[0])*(-1)\n",
    "    \n",
    "    for cluster_i in km_rf_clfs.keys():\n",
    "        inds = clusters_ind == cluster_i\n",
    "        y_prob[inds] = km_rf_clfs[cluster_i].predict_proba(x[inds])[:,1]\n",
    "    \n",
    "    for cluster_i in km_n_clfs:\n",
    "        inds = clusters_ind == cluster_i\n",
    "        y_prob[inds] = km_n_clfs[cluster_i]\n",
    "        \n",
    "    return y_prob\n",
    "\n",
    "\n",
    "def calcAR(df,feature_cols,label_col):\n",
    "    col_type = getColType(df,list(set(df.columns) - set(feature_cols)))\n",
    "    labels = list(set(list(df[label_col])))\n",
    "    AR = {}\n",
    "    \n",
    "    for col in col_type['numeric']:\n",
    "        avg   = df[col].mean()\n",
    "        crs = []\n",
    "        if avg == 0:\n",
    "            AR[col] = 0\n",
    "            continue\n",
    "        for label in labels:\n",
    "            crs.append(df.loc[df[label_col] == label, col].mean() / avg)\n",
    "        AR[col] = max(crs)\n",
    "        \n",
    "    for col in col_type['binary']:\n",
    "        zero = min(df[col])\n",
    "        one  = max(df[col])\n",
    "        crs = []\n",
    "        for label in labels:\n",
    "            subset = df.loc[df['class5']==label,col]\n",
    "            f_zero = np.sum(subset == zero)\n",
    "            f_one  = np.sum(subset == one)\n",
    "            if f_zero == 0:\n",
    "                crs.append(1000.0)\n",
    "                continue\n",
    "            crs.append(f_one/f_zero)\n",
    "        AR[col] = max(crs)\n",
    "    return AR\n",
    "\n",
    "\n",
    "\n",
    "def filterByAR(AR,min_ar):\n",
    "    filtred_features = {}\n",
    "    for key in AR.keys():\n",
    "        if AR[key] >= min_ar:\n",
    "            filtred_features[key] = AR[key]\n",
    "    return list(filtred_features.keys())\n",
    "            \n",
    "\n",
    "def getColType(df,labels_col):\n",
    "    col_type = {'categorical':[],\n",
    "                'binary':[],\n",
    "                'numeric':[]}\n",
    "    \n",
    "    for col in list(df.drop(columns=labels_col).columns):\n",
    "        if df[col].dtype == 'O':\n",
    "            col_type['categorical'].append(col)\n",
    "        elif len(list(df[col].value_counts().index)) == 2:\n",
    "            col_type['binary'].append(col)\n",
    "        else:\n",
    "            col_type['numeric'].append(col)\n",
    "    return col_type\n",
    "\n",
    "def printMetrics(y_yh,legend):\n",
    "    metrics = {}\n",
    "    table = pd.DataFrame()\n",
    "    i = 0\n",
    "    for pair in y_yh:\n",
    "        metrics = []\n",
    "        metrics.append(accuracy_score(pair[0],pair[1]))\n",
    "        fpr, tpr, thresholds = roc_curve(pair[0],pair[1])\n",
    "        metrics += [tpr[1],fpr[1]]\n",
    "        metrics.append(roc_auc_score(pair[0],pair[1]))\n",
    "        metrics.append(f1_score(pair[0],pair[1]))\n",
    "        metrics.append(precision_score(pair[0],pair[1]))\n",
    "        \n",
    "        table[legend[i]] = metrics \n",
    "        i += 1\n",
    "    table.index = [\"Accuracy\", \"TPR\",\"FPR\", \"AUC\", \"F1 Score\", \"Precisão\"]\n",
    "    \n",
    "    return table\n",
    "\n",
    "\n",
    "def analyseThresholds(y,yprob,thList=None):\n",
    "    if thList is None:\n",
    "        thList = [1e-3, 5e-3, 1e-2, 5e-2, 1e-1, 5e-1]\n",
    "    #metrics = {\"f1\":[],'prec':[],'tpr':[],'fpr':[],'acc':[],'auc':[]}\n",
    "    metrics = {\"f1\":[],'tpr':[],'fpr':[],'acc':[]}\n",
    "    \n",
    "    for th in thList:\n",
    "        ypred = yprob > th\n",
    "        metrics['acc'].append(accuracy_score(y,ypred))\n",
    "        fpr, tpr, thresholds = roc_curve(y,ypred)\n",
    "        metrics['tpr'].append(tpr[1])\n",
    "        metrics['fpr'].append(fpr[1])\n",
    "       # metrics['auc'].append(roc_auc_score(y,ypred))\n",
    "        metrics['f1'].append(f1_score(y,ypred))\n",
    "        #metrics['prec'].append(precision_score(y,ypred))\n",
    "    y = np.array(list(metrics.values())).T\n",
    "    plt.semilogx(thList,y,linewidth=2)\n",
    "    plt.grid()\n",
    "    #plt.legend(['F1','Prec','TPR','FPR','Acc','AuC'])\n",
    "    plt.legend(['F1','TPR','FPR','Acurácia'])\n",
    "    plt.xlabel('Limiar de detecção')"
   ]
  },
  {
   "cell_type": "markdown",
   "id": "20174098",
   "metadata": {},
   "source": [
    "# Importing Data"
   ]
  },
  {
   "cell_type": "markdown",
   "id": "13b0cd1d",
   "metadata": {},
   "source": [
    "Os nomes de cada coluna (feauture) não vieram diretamente no arquivo dos dados, então eles foram inseridos manualmente."
   ]
  },
  {
   "cell_type": "code",
   "execution_count": 260,
   "id": "bbd442f6",
   "metadata": {},
   "outputs": [],
   "source": [
    "pd.set_option('display.max_columns', None)\n",
    "pd.reset_option('max_rows')\n",
    "\n",
    "headers = ['duration', 'protocol_type', 'service', 'flag', 'src_bytes', 'dst_bytes', 'land', 'wrong_fragment', \n",
    "           'urgent', 'hot', 'num_failed_logins', 'logged_in', 'num_compromised', 'root_shell', 'su_attempted',\n",
    "           'num_root', 'num_file_creations', 'num_shells', 'num_access_files', 'num_outbound_cmds', 'is_host_login',\n",
    "           'is_guest_login', 'count', 'srv_count', 'serror_rate', 'srv_serror_rate', 'rerror_rate', 'srv_rerror_rate',\n",
    "           'same_srv_rate', 'diff_srv_rate', 'srv_diff_host_rate', 'dst_host_count', 'dst_host_srv_count',\n",
    "           'dst_host_same_srv_rate', 'dst_host_diff_srv_rate', 'dst_host_same_src_port_rate',\n",
    "           'dst_host_srv_diff_host_rate', 'dst_host_serror_rate', 'dst_host_srv_serror_rate', 'dst_host_rerror_rate',\n",
    "           'dst_host_srv_rerror_rate','event_type','event_score']\n",
    "\n",
    "labels = ['event_type','event_score']\n",
    "\n",
    "df_train = pd.read_csv(\"NSL-KDD/KDDTrain+.txt\",names=headers)\n",
    "df_test = pd.read_csv(\"NSL-KDD/KDDTest+.txt\",names=headers)\n",
    "\n",
    "col_type = getColType(df_train,labels)\n",
    "    "
   ]
  },
  {
   "cell_type": "code",
   "execution_count": 261,
   "id": "8f93f732",
   "metadata": {},
   "outputs": [
    {
     "data": {
      "text/plain": [
       "['protocol_type', 'service', 'flag']"
      ]
     },
     "execution_count": 261,
     "metadata": {},
     "output_type": "execute_result"
    }
   ],
   "source": [
    "col_type['categorical']"
   ]
  },
  {
   "cell_type": "markdown",
   "id": "b6d3ead3",
   "metadata": {},
   "source": [
    "# Preprocessing Data"
   ]
  },
  {
   "cell_type": "markdown",
   "id": "837eb38a",
   "metadata": {},
   "source": [
    "In this step, we add the columns <b>class5</b> (labels belonging to 5 different classes: normal, DoS, probe, U2R or R2L) and <b>class2</b> (labels belonging to 2 different classes: normal or attack)."
   ]
  },
  {
   "cell_type": "code",
   "execution_count": 262,
   "id": "bcbcc94d",
   "metadata": {},
   "outputs": [],
   "source": [
    "df_train = df_train.drop(labels='event_score',axis=1)\n",
    "df_test  = df_test.drop(labels='event_score',axis=1)\n",
    "\n",
    "event_train = df_train['event_type']\n",
    "event_test = df_test['event_type']\n",
    "(df_train['class5'],df_test['class5']) = (0,0)\n",
    "(df_train.loc[event_train.isin(attack_classes['dos']), 'class5'],df_test.loc[event_test.isin(attack_classes['dos']), 'class5']) = (1,1)\n",
    "(df_train.loc[event_train.isin(attack_classes['probe']), 'class5'],df_test.loc[event_test.isin(attack_classes['probe']), 'class5']) = (2,2)\n",
    "(df_train.loc[event_train.isin(attack_classes['u2r']), 'class5'],df_test.loc[event_test.isin(attack_classes['u2r']), 'class5']) = (3,3)\n",
    "(df_train.loc[event_train.isin(attack_classes['r2l']), 'class5'],df_test.loc[event_test.isin(attack_classes['r2l']), 'class5']) = (4,4)\n",
    "\n",
    "(df_train['class2'],df_test['class2']) = (0,0)\n",
    "(df_train.loc[event_train != 'normal', 'class2'] ,df_test.loc[event_test != 'normal', 'class2']) = (1,1)\n",
    "\n",
    "if not('class2') in labels:\n",
    "    labels.extend(['class2','class5'])\n",
    "    labels.remove('event_score')"
   ]
  },
  {
   "cell_type": "code",
   "execution_count": 263,
   "id": "d47c6d3e",
   "metadata": {},
   "outputs": [
    {
     "data": {
      "text/html": [
       "<div>\n",
       "<style scoped>\n",
       "    .dataframe tbody tr th:only-of-type {\n",
       "        vertical-align: middle;\n",
       "    }\n",
       "\n",
       "    .dataframe tbody tr th {\n",
       "        vertical-align: top;\n",
       "    }\n",
       "\n",
       "    .dataframe thead th {\n",
       "        text-align: right;\n",
       "    }\n",
       "</style>\n",
       "<table border=\"1\" class=\"dataframe\">\n",
       "  <thead>\n",
       "    <tr style=\"text-align: right;\">\n",
       "      <th></th>\n",
       "      <th>Total</th>\n",
       "      <th>Normal</th>\n",
       "      <th>Attack</th>\n",
       "      <th>DoS</th>\n",
       "      <th>Probe</th>\n",
       "      <th>U2R</th>\n",
       "      <th>R2L</th>\n",
       "    </tr>\n",
       "  </thead>\n",
       "  <tbody>\n",
       "    <tr>\n",
       "      <th>Train</th>\n",
       "      <td>125973</td>\n",
       "      <td>67343</td>\n",
       "      <td>58630</td>\n",
       "      <td>45927</td>\n",
       "      <td>11656</td>\n",
       "      <td>52</td>\n",
       "      <td>995</td>\n",
       "    </tr>\n",
       "    <tr>\n",
       "      <th>Test</th>\n",
       "      <td>22544</td>\n",
       "      <td>9711</td>\n",
       "      <td>12833</td>\n",
       "      <td>7458</td>\n",
       "      <td>2421</td>\n",
       "      <td>400</td>\n",
       "      <td>2554</td>\n",
       "    </tr>\n",
       "  </tbody>\n",
       "</table>\n",
       "</div>"
      ],
      "text/plain": [
       "        Total  Normal  Attack    DoS  Probe  U2R   R2L\n",
       "Train  125973   67343   58630  45927  11656   52   995\n",
       "Test    22544    9711   12833   7458   2421  400  2554"
      ]
     },
     "execution_count": 263,
     "metadata": {},
     "output_type": "execute_result"
    }
   ],
   "source": [
    "#This cell is dedicated to printing the table with different counts, shown below\n",
    "gen_dict = {'Total': [len(df_train),len(df_test)],\n",
    "            'Normal':[np.sum(df_train.class2 == 0),np.sum(df_test.class2 == 0)],\n",
    "            'Attack':[np.sum(df_train.class2 == 1),np.sum(df_test.class2 == 1)],\n",
    "            'DoS':   [np.sum(df_train.class5 == 1),np.sum(df_test.class5 == 1)],\n",
    "            'Probe': [np.sum(df_train.class5 == 2),np.sum(df_test.class5 == 2)],\n",
    "            'U2R':   [np.sum(df_train.class5 == 3),np.sum(df_test.class5 == 3)],\n",
    "            'R2L':   [np.sum(df_train.class5 == 4),np.sum(df_test.class5 == 4)]}\n",
    "gen_table = pd.DataFrame(data=gen_dict,index=['Train','Test'])\n",
    "gen_table"
   ]
  },
  {
   "cell_type": "markdown",
   "id": "346e5626",
   "metadata": {},
   "source": [
    "Abaixo, observamos a contagem de elementos na coluna <i>su_attempted</i>. Essa coluna indica se o comando \"su_root\" foi usado ou não. Portanto, essa coluna deveria conter apenas valores 0 ou 1, porém, vemos que alguns valores são iguais a 2. Isso será corrigido mais para frente."
   ]
  },
  {
   "cell_type": "markdown",
   "id": "19eb3f69",
   "metadata": {},
   "source": [
    "# Preparação dos Dados"
   ]
  },
  {
   "cell_type": "markdown",
   "id": "bc95df02",
   "metadata": {},
   "source": [
    "Eliminamos a coluna <i>num_outbound_cms</i>, pois todos seus valores são iguais a zero."
   ]
  },
  {
   "cell_type": "code",
   "execution_count": 264,
   "id": "7c3a0d13",
   "metadata": {},
   "outputs": [],
   "source": [
    "if 'num_outbound_cmds' in df_train.columns:\n",
    "    del df_train['num_outbound_cmds']\n",
    "    col_type['numeric'].remove('num_outbound_cmds')\n",
    "if 'num_outbound_cmds' in df_test.columns:\n",
    "    del df_test['num_outbound_cmds']"
   ]
  },
  {
   "cell_type": "markdown",
   "id": "59e2a4c1",
   "metadata": {},
   "source": [
    "Corrigimos a coluna <i>su_attempted</i>, substituindo os valores iguais a 2 por 1."
   ]
  },
  {
   "cell_type": "code",
   "execution_count": 265,
   "id": "3939e216",
   "metadata": {
    "scrolled": true
   },
   "outputs": [],
   "source": [
    "df_train['su_attempted'] = df_train['su_attempted'].replace(2,1)\n",
    "df_test['su_attempted']  = df_test['su_attempted'].replace(2,1)\n",
    "\n",
    "if 'su_attempted' in col_type['numeric'] and not('su_attempted' in col_type['binary']):\n",
    "    col_type['binary'].append('su_attempted')\n",
    "    col_type['numeric'].remove('su_attempted')"
   ]
  },
  {
   "cell_type": "markdown",
   "id": "81bf6973",
   "metadata": {},
   "source": [
    "Nessa parte é realizada uma codificação one-hot nas colunas com valores string e os valores foram normalizados.\n",
    "Nos dados de treinamento, agora, existem 6 features que não existem nos dados de teste. Isso aconteceu porque quando foi feito o one-hot encoding, alguns labels não existiam nos dados de test. São os labels mostrados abaixo (todos da coluna service)."
   ]
  },
  {
   "cell_type": "code",
   "execution_count": 266,
   "id": "9de3877f",
   "metadata": {},
   "outputs": [],
   "source": [
    "from sklearn.model_selection import train_test_split\n",
    "\n",
    "#we apply one-hot encoding to the trainning dataset\n",
    "df_train_ohe = pd.get_dummies(df_train,columns=['protocol_type','service','flag'])\n",
    "\n",
    "#we apply one-hot encoding to the test dataset and we add the 6 columns that were missing\n",
    "df_test_ohe  = pd.get_dummies(df_test,columns=['protocol_type','service','flag'])\n",
    "df_test_ohe[['service_http_2784', 'service_harvest', 'service_aol', 'service_http_8001', 'service_urh_i', 'service_red_i']] = 0\n",
    "\n",
    "#list of features of the dataset after apply one-hot econding\n",
    "features_ohe = list(df_train_ohe.columns)[:]\n",
    "for col in labels:\n",
    "    features_ohe.remove(col)\n",
    "\n",
    "#column type (numeric, categorical, binary) after applyign one-hot encoding\n",
    "col_type_ohe = getColType(df_train_ohe,labels)"
   ]
  },
  {
   "cell_type": "markdown",
   "id": "bcc18ebf",
   "metadata": {},
   "source": [
    "A cross validation dataset is created by splitting the trainning dataset (20% for cross validation).\n"
   ]
  },
  {
   "cell_type": "code",
   "execution_count": 267,
   "id": "62d03061",
   "metadata": {},
   "outputs": [],
   "source": [
    "from sklearn.model_selection import train_test_split\n",
    "\n",
    "df_train_complete = df_train_ohe\n",
    "df_train_ohe_split, df_cv_ohe_split = train_test_split(df_train_ohe, test_size=0.2, random_state=1)\n",
    "df_train_ohe_split.index = range(len(df_train_ohe_split.index))\n",
    "df_cv_ohe_split.index = range(len(df_cv_ohe_split.index))"
   ]
  },
  {
   "cell_type": "code",
   "execution_count": 268,
   "id": "1b54d671",
   "metadata": {},
   "outputs": [],
   "source": [
    "#standardization of the features of both datasets\n",
    "ft_train_complete = pd.DataFrame(StandardScaler().fit_transform(df_train_complete[features_ohe]),columns=features_ohe)\n",
    "ft_train = pd.DataFrame(StandardScaler().fit_transform(df_train_ohe_split[features_ohe]),columns=features_ohe)\n",
    "ft_cv    = pd.DataFrame(StandardScaler().fit_transform(df_cv_ohe_split[features_ohe]),columns=features_ohe)\n",
    "ft_test  = pd.DataFrame(StandardScaler().fit_transform(df_test_ohe[features_ohe]),columns=features_ohe)\n",
    "\n",
    "#concatenation of the standardized features with the label columns\n",
    "df_train_complete_sc = pd.concat([ft_train_complete, df_train_complete[labels]],axis=1)\n",
    "df_train_sc = pd.concat([ft_train,df_train_ohe_split[labels]],axis=1)\n",
    "df_cv_sc    = pd.concat([ft_cv,df_cv_ohe_split[labels]],axis=1)\n",
    "df_test_sc  = pd.concat([ft_test,df_test_ohe[labels]],axis=1)"
   ]
  },
  {
   "cell_type": "markdown",
   "id": "7d9f8361",
   "metadata": {},
   "source": [
    "In this part, we index the binary features with ones and zeros, since these binary columns were standardized and are no longer 0's and 1's."
   ]
  },
  {
   "cell_type": "code",
   "execution_count": 269,
   "id": "f713b943",
   "metadata": {},
   "outputs": [],
   "source": [
    "for col in col_type_ohe['binary']:\n",
    "    zero_train_complete = min(df_train_complete[col])\n",
    "    one_train_complete = max(df_train_complete[col])\n",
    "    (zero_train, zero_cv, zero_test) = (min(df_train_sc[col]), min(df_cv_sc[col]), min(df_test_sc[col]))\n",
    "    (one_train, one_cv, one_test)   = (max(df_train_sc[col]), max(df_cv_sc[col]), max(df_test_sc[col]))\n",
    "    \n",
    "    df_train_complete.loc[df_train_complete[col] == zero_train_complete, col] = 0\n",
    "    df_train_complete.loc[df_train_complete[col] == one_train_complete, col] = 1\n",
    "    \n",
    "    df_train_sc.loc[df_train_sc[col] == zero_train, col] = 0\n",
    "    df_train_sc.loc[df_train_sc[col] == one_train, col] = 1\n",
    "    \n",
    "    df_cv_sc.loc[df_cv_sc[col] == zero_cv, col] = 0\n",
    "    df_cv_sc.loc[df_cv_sc[col] == one_cv, col] = 1\n",
    "    \n",
    "    df_test_sc.loc[df_test_sc[col] == zero_test, col] = 0\n",
    "    df_test_sc.loc[df_test_sc[col] == one_test, col] = 1"
   ]
  },
  {
   "cell_type": "code",
   "execution_count": 270,
   "id": "bdb59b61",
   "metadata": {},
   "outputs": [],
   "source": [
    "features_sc = df_train_sc.columns[:-3]"
   ]
  },
  {
   "cell_type": "markdown",
   "id": "24521422",
   "metadata": {},
   "source": [
    "# K-means + Random Forest"
   ]
  },
  {
   "cell_type": "code",
   "execution_count": 88,
   "id": "b2751f26",
   "metadata": {},
   "outputs": [],
   "source": [
    "def elbowCurve(kmin,kmax):\n",
    "    print('ok')\n",
    "    inertias = []\n",
    "    (x_train_KM, y_train_KM) = (df_train_sc[features_sc], df_train_sc['class2'])\n",
    "    K = 25\n",
    "    for k in range(kmin,kmax):\n",
    "        print(k)\n",
    "        kmeans = KMeans(n_clusters = k, max_iter=100, n_init=25, algorithm='full',random_state=1)\n",
    "        kmeans.fit(x_train_KM)\n",
    "        inertias.append(kmeans.inertia_)\n",
    "    plt.plot(range(kmin,kmax), inertias)\n",
    "    plt.grid()\n",
    "    return inertias"
   ]
  },
  {
   "cell_type": "code",
   "execution_count": 89,
   "id": "549eb578",
   "metadata": {},
   "outputs": [],
   "source": [
    "from sklearn.metrics import silhouette_score\n",
    "def silhouetteCurve(kmin,kmax):\n",
    "    print('ok')\n",
    "    sil = []\n",
    "    (x_train_KM, y_train_KM) = (df_train_sc[features_sc], df_train_sc['class2'])\n",
    "    K = 25\n",
    "    for k in range(kmin,kmax):\n",
    "        print(k)\n",
    "        kmeans = KMeans(n_clusters = k, max_iter=100, n_init=25, algorithm='full',random_state=1)\n",
    "        kmeans.fit(x_train_KM)\n",
    "        print(len(kmeans.labels_))\n",
    "        sil.append(silhouette_score(x_train_KM, kmeans.labels_))\n",
    "    plt.plot(range(kmin,kmax), sil)\n",
    "    plt.grid()\n",
    "    return sil    "
   ]
  },
  {
   "cell_type": "code",
   "execution_count": 90,
   "id": "5d39d982",
   "metadata": {},
   "outputs": [
    {
     "data": {
      "image/png": "[encoded data removed]",
      "text/plain": [
       "<Figure size 432x288 with 1 Axes>"
      ]
     },
     "metadata": {
      "needs_background": "light"
     },
     "output_type": "display_data"
    }
   ],
   "source": [
    "plt.plot(range(2,35),teste_sil_2_35)\n",
    "plt.grid()"
   ]
  },
  {
   "cell_type": "code",
   "execution_count": 196,
   "id": "ab21ff24",
   "metadata": {},
   "outputs": [
    {
     "data": {
      "text/plain": [
       "(100778, 124)"
      ]
     },
     "execution_count": 196,
     "metadata": {},
     "output_type": "execute_result"
    }
   ],
   "source": [
    "np.shape(df_train_sc)"
   ]
  },
  {
   "cell_type": "code",
   "execution_count": 52,
   "id": "fec4508d",
   "metadata": {},
   "outputs": [],
   "source": [
    "df_train_complete2 = pd.concat([df_train_sc,df_cv_sc])"
   ]
  },
  {
   "cell_type": "markdown",
   "id": "30a96734",
   "metadata": {},
   "source": [
    "## K-means"
   ]
  },
  {
   "cell_type": "code",
   "execution_count": 688,
   "id": "99dd3bc1",
   "metadata": {
    "scrolled": true
   },
   "outputs": [
    {
     "name": "stderr",
     "output_type": "stream",
     "text": [
      "c:\\users\\igorr\\appdata\\local\\programs\\python\\python39\\lib\\site-packages\\sklearn\\cluster\\_kmeans.py:1148: RuntimeWarning: Explicit initial center position passed: performing only one init in KMeans instead of n_init=35.\n",
      "  self._check_params(X)\n"
     ]
    },
    {
     "data": {
      "text/plain": [
       "3"
      ]
     },
     "execution_count": 688,
     "metadata": {},
     "output_type": "execute_result"
    }
   ],
   "source": [
    "from sklearn.cluster import KMeans\n",
    "\n",
    "#(x_train_KM, y_train_KM) = (df_train_sc[features_sc], df_train_sc['class2'])\n",
    "#(x_train_KM, y_train_KM) = (df_train_complete_sc[features_sc], df_train_complete_sc['class2'])\n",
    "(x_train_KM, y_train_KM) = (df_train_complete2[features_sc], df_train_complete2['class2'])\n",
    "(x_cv_KM, y_cv_KM) = (df_cv_sc[features_sc], df_cv_sc['class2'])\n",
    "(x_test_KM, y_test_KM) = (df_test_sc[features_sc], df_test_sc['class2'])\n",
    "\n",
    "#random_state = 1 -> bad results\n",
    "#random_state = 10 -> good results\n",
    "#random_state = 2315 -> medio\n",
    "#12 clusters: 3000, 23478\n",
    "#8 clusters: 10,\n",
    "kmeans = KMeans(n_clusters = 8, max_iter=50, n_init=35, algorithm='full', random_state = 10, init=centros)#,random_state=1)#, random_state=10) \n",
    "kmeans.fit(x_train_KM)\n",
    "kmeans.n_iter_"
   ]
  },
  {
   "cell_type": "code",
   "execution_count": 689,
   "id": "08489d7b",
   "metadata": {},
   "outputs": [
    {
     "name": "stdout",
     "output_type": "stream",
     "text": [
      "Counts for each cluster: \n",
      "\n",
      "==== Trainning dataset ====\n",
      "N | Count | Normal | Attacks\n",
      "0 | 34801 | 82     | 34719\n",
      "1 | 44698 | 43622  | 1076\n",
      "2 | 15020 | 2812   | 12208\n",
      "3 | 4733  | 490    | 4243\n",
      "4 | 1     | 1      | 0\n",
      "5 | 9276  | 6804   | 2472\n",
      "6 | 884   | 0      | 884\n",
      "7 | 16560 | 13532  | 3028\n",
      "\n",
      " ==== Test dataset ====\n",
      "N | Count | Normal | Attacks\n",
      "0 | 2352  | 13     | 2339\n",
      "1 | 10129 | 7555   | 2574\n",
      "2 | 4578  | 70     | 4508\n",
      "3 | 465   | 61     | 404\n",
      "5 | 1495  | 949    | 546\n",
      "6 | 62    | 41     | 21\n",
      "7 | 3463  | 1022   | 2441\n"
     ]
    }
   ],
   "source": [
    "clusters_train_ind = kmeans.predict(x_train_KM)\n",
    "clusters_cv_ind    = kmeans.predict(x_cv_KM)\n",
    "clusters_test_ind  = kmeans.predict(x_test_KM)\n",
    "\n",
    "#clusters_train = filterArray(df_train_sc, y_train_KM, clusters_train_ind)\n",
    "#clusters_train = filterArray(df_train_complete_sc, y_train_KM, clusters_train_ind)\n",
    "clusters_train = filterArray(df_train_complete2, y_train_KM, clusters_train_ind)\n",
    "clusters_cv    = filterArray(df_cv_sc,    y_cv_KM,    clusters_cv_ind)\n",
    "clusters_test  = filterArray(df_test_sc,  y_test_KM , clusters_test_ind)\n",
    "\n",
    "#prints a table with the counts for each cluster\n",
    "print(\"Counts for each cluster:\",'\\n')\n",
    "print(\"==== Trainning dataset ====\")\n",
    "printClusters(clusters_train)\n",
    "\n",
    "print('\\n',\"==== Test dataset ====\")\n",
    "printClusters(clusters_test)"
   ]
  },
  {
   "cell_type": "code",
   "execution_count": 687,
   "id": "24b3b9a2",
   "metadata": {},
   "outputs": [],
   "source": [
    "centros = kmeans.cluster_centers_"
   ]
  },
  {
   "cell_type": "markdown",
   "id": "3a51518c",
   "metadata": {},
   "source": [
    "## Random Forest"
   ]
  },
  {
   "cell_type": "code",
   "execution_count": 690,
   "id": "e1969e90",
   "metadata": {},
   "outputs": [
    {
     "name": "stdout",
     "output_type": "stream",
     "text": [
      "Step  1\n",
      "Step  2\n",
      "Step  3\n",
      "Step  4\n",
      "Step  5\n",
      "Step  6\n",
      "Step  7\n",
      "Step  8\n",
      "Step  1\n",
      "Step  2\n",
      "Step  3\n",
      "Step  4\n",
      "Step  5\n",
      "Step  6\n",
      "Step  7\n",
      "Step  1\n",
      "Step  2\n",
      "Step  3\n",
      "Step  4\n",
      "Step  5\n",
      "Step  6\n",
      "Step  7\n"
     ]
    }
   ],
   "source": [
    "from sklearn.ensemble import RandomForestClassifier\n",
    "\n",
    "#Assigns Random Tree classifieers to category 1 clusters and 1 or 0 to category 2 clusters\n",
    "#km_rf_clfs: dictionary with category 1 clusters, containing Random Tree classifiers\n",
    "#km_n_clfs: dictionary  with category 2 clusters, containing 1 or 0, depending on majority rule\n",
    "(km_rf_clfs_train,km_n_clfs_train) = assClfsToClusters2(clusters_train,max_depth=20,n_estimators=400)\n",
    "(km_rf_clfs_cv,km_n_clfs_cv)       = assClfsToClusters2(clusters_cv,max_depth=20,n_estimators=400)\n",
    "(km_rf_clfs_test,km_n_clfs_test)   = assClfsToClusters2(clusters_test,max_depth=20,n_estimators=400)\n",
    "\n",
    "beep()"
   ]
  },
  {
   "cell_type": "code",
   "execution_count": 691,
   "id": "a17eaa6f",
   "metadata": {},
   "outputs": [],
   "source": [
    "yprob_train_KM = clustersPredict(x_train_KM, clusters_train_ind, km_rf_clfs_train,km_n_clfs_train)\n",
    "yprob_cv_KM  = clustersPredict(x_cv_KM, clusters_cv_ind, km_rf_clfs_cv,km_n_clfs_cv)\n",
    "yprob_test_KM  = clustersPredict(x_test_KM, clusters_test_ind, km_rf_clfs_test,km_n_clfs_test)"
   ]
  },
  {
   "cell_type": "markdown",
   "id": "e0aa20b2",
   "metadata": {},
   "source": [
    "Metric analyses for the CV dataset for different thresholds:"
   ]
  },
  {
   "cell_type": "code",
   "execution_count": 693,
   "id": "614d89ad",
   "metadata": {},
   "outputs": [
    {
     "data": {
      "image/png": "[encoded data removed]",
      "text/plain": [
       "<Figure size 432x288 with 1 Axes>"
      ]
     },
     "metadata": {
      "needs_background": "light"
     },
     "output_type": "display_data"
    }
   ],
   "source": [
    "%matplotlib inline\n",
    "\n",
    "from sklearn.metrics import f1_score, precision_score, recall_score, accuracy_score, roc_curve, roc_auc_score\n",
    "\n",
    "#analyseThresholds(y_train_KM,yprob_train_KM,np.arange(5e-3,0.95,5e-3))\n",
    "analyseThresholds(y_cv_KM,yprob_cv_KM,np.arange(5e-3,0.95,5e-3))\n",
    "#analyseThresholds(y_test_KM,yprob_test_KM,np.arange(1e-4,0.95,5e-3))"
   ]
  },
  {
   "cell_type": "code",
   "execution_count": 680,
   "id": "a1b6aaf7",
   "metadata": {
    "scrolled": true
   },
   "outputs": [
    {
     "data": {
      "text/html": [
       "<div>\n",
       "<style scoped>\n",
       "    .dataframe tbody tr th:only-of-type {\n",
       "        vertical-align: middle;\n",
       "    }\n",
       "\n",
       "    .dataframe tbody tr th {\n",
       "        vertical-align: top;\n",
       "    }\n",
       "\n",
       "    .dataframe thead th {\n",
       "        text-align: right;\n",
       "    }\n",
       "</style>\n",
       "<table border=\"1\" class=\"dataframe\">\n",
       "  <thead>\n",
       "    <tr style=\"text-align: right;\">\n",
       "      <th></th>\n",
       "      <th>Trainning</th>\n",
       "      <th>CV</th>\n",
       "      <th>Test</th>\n",
       "    </tr>\n",
       "  </thead>\n",
       "  <tbody>\n",
       "    <tr>\n",
       "      <th>Accuracy</th>\n",
       "      <td>0.800095</td>\n",
       "      <td>0.967097</td>\n",
       "      <td>0.946194</td>\n",
       "    </tr>\n",
       "    <tr>\n",
       "      <th>TPR</th>\n",
       "      <td>0.571441</td>\n",
       "      <td>0.980666</td>\n",
       "      <td>0.978103</td>\n",
       "    </tr>\n",
       "    <tr>\n",
       "      <th>FPR</th>\n",
       "      <td>0.000539</td>\n",
       "      <td>0.044647</td>\n",
       "      <td>0.095974</td>\n",
       "    </tr>\n",
       "    <tr>\n",
       "      <th>AUC</th>\n",
       "      <td>0.785451</td>\n",
       "      <td>0.968009</td>\n",
       "      <td>0.941065</td>\n",
       "    </tr>\n",
       "    <tr>\n",
       "      <th>F1 Score</th>\n",
       "      <td>0.726997</td>\n",
       "      <td>0.965102</td>\n",
       "      <td>0.953908</td>\n",
       "    </tr>\n",
       "    <tr>\n",
       "      <th>Precisão</th>\n",
       "      <td>0.998920</td>\n",
       "      <td>0.950025</td>\n",
       "      <td>0.930881</td>\n",
       "    </tr>\n",
       "  </tbody>\n",
       "</table>\n",
       "</div>"
      ],
      "text/plain": [
       "          Trainning        CV      Test\n",
       "Accuracy   0.800095  0.967097  0.946194\n",
       "TPR        0.571441  0.980666  0.978103\n",
       "FPR        0.000539  0.044647  0.095974\n",
       "AUC        0.785451  0.968009  0.941065\n",
       "F1 Score   0.726997  0.965102  0.953908\n",
       "Precisão   0.998920  0.950025  0.930881"
      ]
     },
     "execution_count": 680,
     "metadata": {},
     "output_type": "execute_result"
    }
   ],
   "source": [
    "from sklearn.metrics import f1_score, precision_score, recall_score, accuracy_score, roc_curve, roc_auc_score\n",
    "\n",
    "ypred_train_KM = yprob_train_KM > 0.5\n",
    "ypred_cv_KM  = yprob_cv_KM > 0.3\n",
    "ypred_test_KM  = yprob_test_KM > 0.3\n",
    "    \n",
    "beep()\n",
    "printMetrics([(y_train_KM,ypred_train_KM),(y_cv_KM,ypred_cv_KM),(y_test_KM,ypred_test_KM)],[\"Trainning\",\"CV\",\"Test\"])"
   ]
  },
  {
   "cell_type": "markdown",
   "id": "25cb9ec0",
   "metadata": {},
   "source": [
    "# Classificação por Classe"
   ]
  },
  {
   "cell_type": "markdown",
   "id": "32ecdccd",
   "metadata": {},
   "source": [
    "## Random Forest"
   ]
  },
  {
   "cell_type": "markdown",
   "id": "5b8e066c",
   "metadata": {},
   "source": [
    "### DoS"
   ]
  },
  {
   "cell_type": "code",
   "execution_count": 765,
   "id": "aec0a216",
   "metadata": {},
   "outputs": [],
   "source": [
    "#mask_dos = (df_train_complete_sc.class5 == 1) | (df_train_complete_sc.class5 == 0)\n",
    "#(x_train_dos, y_train_dos) = (df_train_complete_sc.loc[:, features_sc], df_train_complete_sc.loc[:,'class2'])\n",
    "\n",
    "#mask_dos = (df_train_complete2.class5 == 1) | (df_train_complete2.class5 == 0)\n",
    "#(x_train_dos, y_train_dos) = (df_train_complete2.loc[:, features_sc], df_train_complete2.loc[:,'class2'])\n",
    "\n",
    "mask_dos = (df_train_sc.class5 == 1) | (df_train_sc.class5 == 0)\n",
    "(x_train_dos, y_train_dos) = (df_train_sc.loc[:, features_sc], df_train_sc.loc[:,'class2'])\n",
    "\n",
    "(x_cv_dos, y_cv_dos) = (df_cv_sc.loc[:, features_sc], df_cv_sc.loc[:,'class2'])\n",
    "\n",
    "(x_test_dos, y_test_dos) = (df_test_sc.loc[:, features_sc], df_test_sc.loc[:,'class2'])"
   ]
  },
  {
   "cell_type": "code",
   "execution_count": 766,
   "id": "2f3573ab",
   "metadata": {},
   "outputs": [],
   "source": [
    "from sklearn.ensemble import RandomForestClassifier\n",
    "\n",
    "rf_clf = RandomForestClassifier(n_estimators=400, max_depth=20, random_state=1)\n",
    "rf_clf.fit(x_train_dos.loc[mask_dos],y_train_dos.loc[mask_dos])\n",
    "\n",
    "beep()"
   ]
  },
  {
   "cell_type": "code",
   "execution_count": 767,
   "id": "0e823636",
   "metadata": {},
   "outputs": [],
   "source": [
    "yprob_train_dos = rf_clf.predict_proba(x_train_dos)[:,1]\n",
    "yprob_cv_dos    = rf_clf.predict_proba(x_cv_dos)[:,1]\n",
    "yprob_test_dos  = rf_clf.predict_proba(x_test_dos)[:,1]"
   ]
  },
  {
   "cell_type": "code",
   "execution_count": 768,
   "id": "b1f5e5b2",
   "metadata": {},
   "outputs": [
    {
     "data": {
      "image/png": "[encoded data removed]",
      "text/plain": [
       "<Figure size 432x288 with 1 Axes>"
      ]
     },
     "metadata": {
      "needs_background": "light"
     },
     "output_type": "display_data"
    }
   ],
   "source": [
    "from sklearn.metrics import f1_score, precision_score, recall_score, accuracy_score, roc_curve, roc_auc_score\n",
    "\n",
    "#Metric analyses for the cv dataset for different thresholds\n",
    "%matplotlib inline\n",
    "analyseThresholds(y_cv_dos,yprob_cv_dos)"
   ]
  },
  {
   "cell_type": "code",
   "execution_count": 769,
   "id": "c7a4e619",
   "metadata": {},
   "outputs": [
    {
     "data": {
      "text/html": [
       "<div>\n",
       "<style scoped>\n",
       "    .dataframe tbody tr th:only-of-type {\n",
       "        vertical-align: middle;\n",
       "    }\n",
       "\n",
       "    .dataframe tbody tr th {\n",
       "        vertical-align: top;\n",
       "    }\n",
       "\n",
       "    .dataframe thead th {\n",
       "        text-align: right;\n",
       "    }\n",
       "</style>\n",
       "<table border=\"1\" class=\"dataframe\">\n",
       "  <thead>\n",
       "    <tr style=\"text-align: right;\">\n",
       "      <th></th>\n",
       "      <th>Trainning</th>\n",
       "      <th>CV</th>\n",
       "      <th>Test</th>\n",
       "    </tr>\n",
       "  </thead>\n",
       "  <tbody>\n",
       "    <tr>\n",
       "      <th>Accuracy</th>\n",
       "      <td>0.921967</td>\n",
       "      <td>0.963326</td>\n",
       "      <td>0.814363</td>\n",
       "    </tr>\n",
       "    <tr>\n",
       "      <th>TPR</th>\n",
       "      <td>0.832513</td>\n",
       "      <td>0.925400</td>\n",
       "      <td>0.813216</td>\n",
       "    </tr>\n",
       "    <tr>\n",
       "      <th>FPR</th>\n",
       "      <td>0.000037</td>\n",
       "      <td>0.003850</td>\n",
       "      <td>0.184121</td>\n",
       "    </tr>\n",
       "    <tr>\n",
       "      <th>AUC</th>\n",
       "      <td>0.916238</td>\n",
       "      <td>0.960775</td>\n",
       "      <td>0.814547</td>\n",
       "    </tr>\n",
       "    <tr>\n",
       "      <th>F1 Score</th>\n",
       "      <td>0.908582</td>\n",
       "      <td>0.959039</td>\n",
       "      <td>0.832981</td>\n",
       "    </tr>\n",
       "    <tr>\n",
       "      <th>Precisão</th>\n",
       "      <td>0.999949</td>\n",
       "      <td>0.995216</td>\n",
       "      <td>0.853730</td>\n",
       "    </tr>\n",
       "  </tbody>\n",
       "</table>\n",
       "</div>"
      ],
      "text/plain": [
       "          Trainning        CV      Test\n",
       "Accuracy   0.921967  0.963326  0.814363\n",
       "TPR        0.832513  0.925400  0.813216\n",
       "FPR        0.000037  0.003850  0.184121\n",
       "AUC        0.916238  0.960775  0.814547\n",
       "F1 Score   0.908582  0.959039  0.832981\n",
       "Precisão   0.999949  0.995216  0.853730"
      ]
     },
     "execution_count": 769,
     "metadata": {},
     "output_type": "execute_result"
    }
   ],
   "source": [
    "from sklearn.metrics import f1_score, precision_score, recall_score, accuracy_score, roc_curve, roc_auc_score\n",
    "\n",
    "yh_train_dos = yprob_train_dos > 0.5\n",
    "yh_cv_dos    = yprob_cv_dos > 0.1\n",
    "yh_test_dos  = yprob_test_dos > 0.1\n",
    "\n",
    "printMetrics([(y_train_dos,yh_train_dos),(y_cv_dos,yh_cv_dos),(y_test_dos,yh_test_dos)],[\"Trainning\",\"CV\",\"Test\"])"
   ]
  },
  {
   "cell_type": "markdown",
   "id": "97b9b20b",
   "metadata": {},
   "source": [
    "### Probe"
   ]
  },
  {
   "cell_type": "code",
   "execution_count": 771,
   "id": "99d54d92",
   "metadata": {},
   "outputs": [],
   "source": [
    "#mask_probe = (df_train_complete_sc.class5 == 2) | (df_train_complete_sc.class5 == 0)\n",
    "#(x_train_probe, y_train_probe) = (df_train_complete_sc.loc[:, features_sc], df_train_complete_sc.loc[:,'class2'])\n",
    "\n",
    "#mask_probe = (df_train_complete2.class5 == 2) | (df_train_complete2.class5 == 0)\n",
    "#(x_train_probe, y_train_probe) = (df_train_complete2.loc[:, features_sc], df_train_complete2.loc[:,'class2'])\n",
    "\n",
    "mask_probe = (df_train_sc.class5 == 2) | (df_train_sc.class5 == 0)\n",
    "(x_train_probe, y_train_probe) = (df_train_sc.loc[:, features_sc], df_train_sc.loc[:,'class2'])\n",
    "\n",
    "#(x_train_probe, y_train_probe) = (df_train_sc.loc[:, features_sc], df_train_sc.loc[:,'class2'])\n",
    "\n",
    "(x_cv_probe, y_cv_probe) = (df_cv_sc.loc[:, features_sc], df_cv_sc.loc[:,'class2'])\n",
    "\n",
    "(x_test_probe, y_test_probe) = (df_test_sc.loc[:, features_sc], df_test_sc.loc[:,'class2'])"
   ]
  },
  {
   "cell_type": "code",
   "execution_count": 772,
   "id": "74d3e3bf",
   "metadata": {},
   "outputs": [],
   "source": [
    "from sklearn.ensemble import RandomForestClassifier\n",
    "\n",
    "rf_clf_probe = RandomForestClassifier(n_estimators=400, max_depth=20, max_features=\"sqrt\", random_state=1)\n",
    "rf_clf_probe.fit(x_train_probe.loc[mask_probe],y_train_probe[mask_probe])\n",
    "\n",
    "beep()"
   ]
  },
  {
   "cell_type": "code",
   "execution_count": 773,
   "id": "7e076ba9",
   "metadata": {},
   "outputs": [],
   "source": [
    "yprob_train_probe = rf_clf_probe.predict_proba(x_train_probe)[:,1]\n",
    "yprob_cv_probe    = rf_clf_probe.predict_proba(x_cv_probe)[:,1]\n",
    "yprob_test_probe  = rf_clf_probe.predict_proba(x_test_probe)[:,1]"
   ]
  },
  {
   "cell_type": "code",
   "execution_count": 774,
   "id": "b602aedc",
   "metadata": {},
   "outputs": [
    {
     "data": {
      "image/png": "[encoded data removed]",
      "text/plain": [
       "<Figure size 432x288 with 1 Axes>"
      ]
     },
     "metadata": {
      "needs_background": "light"
     },
     "output_type": "display_data"
    }
   ],
   "source": [
    "#Metric analyses for the cv dataset for different thresholds\n",
    "%matplotlib inline\n",
    "analyseThresholds(y_cv_probe,yprob_cv_probe,np.arange(1e-4,0.95,5e-3))"
   ]
  },
  {
   "cell_type": "code",
   "execution_count": 775,
   "id": "a0235be8",
   "metadata": {},
   "outputs": [
    {
     "data": {
      "text/html": [
       "<div>\n",
       "<style scoped>\n",
       "    .dataframe tbody tr th:only-of-type {\n",
       "        vertical-align: middle;\n",
       "    }\n",
       "\n",
       "    .dataframe tbody tr th {\n",
       "        vertical-align: top;\n",
       "    }\n",
       "\n",
       "    .dataframe thead th {\n",
       "        text-align: right;\n",
       "    }\n",
       "</style>\n",
       "<table border=\"1\" class=\"dataframe\">\n",
       "  <thead>\n",
       "    <tr style=\"text-align: right;\">\n",
       "      <th></th>\n",
       "      <th>Trainning</th>\n",
       "      <th>CV</th>\n",
       "      <th>Test</th>\n",
       "    </tr>\n",
       "  </thead>\n",
       "  <tbody>\n",
       "    <tr>\n",
       "      <th>Accuracy</th>\n",
       "      <td>0.844410</td>\n",
       "      <td>0.932844</td>\n",
       "      <td>0.830066</td>\n",
       "    </tr>\n",
       "    <tr>\n",
       "      <th>TPR</th>\n",
       "      <td>0.665985</td>\n",
       "      <td>0.863889</td>\n",
       "      <td>0.931115</td>\n",
       "    </tr>\n",
       "    <tr>\n",
       "      <th>FPR</th>\n",
       "      <td>0.000019</td>\n",
       "      <td>0.007478</td>\n",
       "      <td>0.303470</td>\n",
       "    </tr>\n",
       "    <tr>\n",
       "      <th>AUC</th>\n",
       "      <td>0.832983</td>\n",
       "      <td>0.928205</td>\n",
       "      <td>0.813822</td>\n",
       "    </tr>\n",
       "    <tr>\n",
       "      <th>F1 Score</th>\n",
       "      <td>0.799499</td>\n",
       "      <td>0.922697</td>\n",
       "      <td>0.861841</td>\n",
       "    </tr>\n",
       "    <tr>\n",
       "      <th>Precisão</th>\n",
       "      <td>0.999968</td>\n",
       "      <td>0.990097</td>\n",
       "      <td>0.802162</td>\n",
       "    </tr>\n",
       "  </tbody>\n",
       "</table>\n",
       "</div>"
      ],
      "text/plain": [
       "          Trainning        CV      Test\n",
       "Accuracy   0.844410  0.932844  0.830066\n",
       "TPR        0.665985  0.863889  0.931115\n",
       "FPR        0.000019  0.007478  0.303470\n",
       "AUC        0.832983  0.928205  0.813822\n",
       "F1 Score   0.799499  0.922697  0.861841\n",
       "Precisão   0.999968  0.990097  0.802162"
      ]
     },
     "execution_count": 775,
     "metadata": {},
     "output_type": "execute_result"
    }
   ],
   "source": [
    "from sklearn.metrics import f1_score, precision_score, recall_score, accuracy_score, roc_curve, roc_auc_score\n",
    "\n",
    "yh_train_probe = yprob_train_probe > 0.5\n",
    "yh_cv_probe    = yprob_cv_probe > 0.2\n",
    "yh_test_probe  = yprob_test_probe > 0.1\n",
    "\n",
    "printMetrics([(y_train_probe,yh_train_probe),(y_cv_probe,yh_cv_probe),(y_test_probe,yh_test_probe)],[\"Trainning\",\"CV\",\"Test\"])"
   ]
  },
  {
   "cell_type": "markdown",
   "id": "1ff3227b",
   "metadata": {},
   "source": [
    "### U2R + R2L"
   ]
  },
  {
   "cell_type": "code",
   "execution_count": 742,
   "id": "dd2c4d20",
   "metadata": {},
   "outputs": [],
   "source": [
    "#mask_u2r_r2l = (df_train_complete_sc.class5 == 3) | (df_train_complete_sc.class5 == 4) | (df_train_complete_sc.class5 == 0)\n",
    "#(x_train_u2r_r2l, y_train_u2r_r2l) = (df_train_complete_sc.loc[:, features_sc], df_train_complete_sc.loc[:,'class2'])\n",
    "\n",
    "#mask_u2r_r2l = (df_train_complete2.class5 == 3) | (df_train_complete2.class5 == 4) | (df_train_complete2.class5 == 0)\n",
    "#(x_train_u2r_r2l, y_train_u2r_r2l) = (df_train_complete2.loc[:, features_sc], df_train_complete2.loc[:,'class2'])\n",
    "\n",
    "mask_u2r_r2l = (df_train_sc.class5 == 3) | (df_train_sc.class5 == 4) | (df_train_sc.class5 == 0)\n",
    "(x_train_u2r_r2l, y_train_u2r_r2l) = (df_train_sc.loc[:, features_sc], df_train_sc.loc[:,'class2'])\n",
    "\n",
    "(x_cv_u2r_r2l, y_cv_u2r_r2l) = (df_cv_sc.loc[:, features_sc], df_cv_sc.loc[:,'class2'])\n",
    "\n",
    "(x_test_u2r_r2l, y_test_u2r_r2l) = (df_test_sc.loc[:, features_sc], df_test_sc.loc[:,'class2'])"
   ]
  },
  {
   "cell_type": "code",
   "execution_count": 756,
   "id": "19b5d851",
   "metadata": {},
   "outputs": [],
   "source": [
    "from sklearn.ensemble import RandomForestClassifier\n",
    "\n",
    "rf_clf_u2r_r2l = RandomForestClassifier(n_estimators=400, max_depth=20, max_features=\"sqrt\", random_state=1)\n",
    "rf_clf_u2r_r2l.fit(x_train_u2r_r2l.loc[mask_u2r_r2l],y_train_u2r_r2l.loc[mask_u2r_r2l])\n",
    "\n",
    "beep()"
   ]
  },
  {
   "cell_type": "code",
   "execution_count": 757,
   "id": "33b45a0a",
   "metadata": {},
   "outputs": [],
   "source": [
    "yprob_train_u2r_r2l = rf_clf_u2r_r2l.predict_proba(x_train_u2r_r2l)[:,1]\n",
    "yprob_cv_u2r_r2l    = rf_clf_u2r_r2l.predict_proba(x_cv_u2r_r2l)[:,1]\n",
    "yprob_test_u2r_r2l  = rf_clf_u2r_r2l.predict_proba(x_test_u2r_r2l)[:,1]"
   ]
  },
  {
   "cell_type": "code",
   "execution_count": 760,
   "id": "9168c814",
   "metadata": {},
   "outputs": [
    {
     "data": {
      "image/png": "[encoded data removed]",
      "text/plain": [
       "<Figure size 432x288 with 1 Axes>"
      ]
     },
     "metadata": {
      "needs_background": "light"
     },
     "output_type": "display_data"
    }
   ],
   "source": [
    "#Metric analyses for the cv dataset for different thresholds\n",
    "%matplotlib inline\n",
    "analyseThresholds(y_cv_u2r_r2l,yprob_cv_u2r_r2l,np.arange(1e-3,0.95,5e-3))"
   ]
  },
  {
   "cell_type": "code",
   "execution_count": 763,
   "id": "608115b9",
   "metadata": {
    "scrolled": true
   },
   "outputs": [
    {
     "data": {
      "text/html": [
       "<div>\n",
       "<style scoped>\n",
       "    .dataframe tbody tr th:only-of-type {\n",
       "        vertical-align: middle;\n",
       "    }\n",
       "\n",
       "    .dataframe tbody tr th {\n",
       "        vertical-align: top;\n",
       "    }\n",
       "\n",
       "    .dataframe thead th {\n",
       "        text-align: right;\n",
       "    }\n",
       "</style>\n",
       "<table border=\"1\" class=\"dataframe\">\n",
       "  <thead>\n",
       "    <tr style=\"text-align: right;\">\n",
       "      <th></th>\n",
       "      <th>Trainning</th>\n",
       "      <th>CV</th>\n",
       "      <th>Test</th>\n",
       "    </tr>\n",
       "  </thead>\n",
       "  <tbody>\n",
       "    <tr>\n",
       "      <th>Accuracy</th>\n",
       "      <td>0.893995</td>\n",
       "      <td>0.855884</td>\n",
       "      <td>0.614088</td>\n",
       "    </tr>\n",
       "    <tr>\n",
       "      <th>TPR</th>\n",
       "      <td>0.785838</td>\n",
       "      <td>0.759346</td>\n",
       "      <td>0.615912</td>\n",
       "    </tr>\n",
       "    <tr>\n",
       "      <th>FPR</th>\n",
       "      <td>0.011702</td>\n",
       "      <td>0.060566</td>\n",
       "      <td>0.388323</td>\n",
       "    </tr>\n",
       "    <tr>\n",
       "      <th>AUC</th>\n",
       "      <td>0.887068</td>\n",
       "      <td>0.849390</td>\n",
       "      <td>0.613795</td>\n",
       "    </tr>\n",
       "    <tr>\n",
       "      <th>F1 Score</th>\n",
       "      <td>0.873513</td>\n",
       "      <td>0.830192</td>\n",
       "      <td>0.645014</td>\n",
       "    </tr>\n",
       "    <tr>\n",
       "      <th>Precisão</th>\n",
       "      <td>0.983208</td>\n",
       "      <td>0.915618</td>\n",
       "      <td>0.677002</td>\n",
       "    </tr>\n",
       "  </tbody>\n",
       "</table>\n",
       "</div>"
      ],
      "text/plain": [
       "          Trainning        CV      Test\n",
       "Accuracy   0.893995  0.855884  0.614088\n",
       "TPR        0.785838  0.759346  0.615912\n",
       "FPR        0.011702  0.060566  0.388323\n",
       "AUC        0.887068  0.849390  0.613795\n",
       "F1 Score   0.873513  0.830192  0.645014\n",
       "Precisão   0.983208  0.915618  0.677002"
      ]
     },
     "execution_count": 763,
     "metadata": {},
     "output_type": "execute_result"
    }
   ],
   "source": [
    "from sklearn.metrics import f1_score, precision_score, recall_score, accuracy_score, roc_curve, roc_auc_score\n",
    "\n",
    "yh_train_u2r_r2l = yprob_train_u2r_r2l > 0.01\n",
    "yh_cv_u2r_r2l    = yprob_cv_u2r_r2l > 0.018\n",
    "yh_test_u2r_r2l  = yprob_test_u2r_r2l > 0.018\n",
    "\n",
    "printMetrics([(y_train_u2r_r2l,yh_train_u2r_r2l),(y_cv_u2r_r2l,yh_cv_u2r_r2l),(y_test_u2r_r2l,yh_test_u2r_r2l)],[\"Trainning\",\"CV\",\"Test\"])"
   ]
  },
  {
   "cell_type": "markdown",
   "id": "cd1a181d",
   "metadata": {},
   "source": [
    "### Combination of classifiers"
   ]
  },
  {
   "cell_type": "code",
   "execution_count": 776,
   "id": "589be9a7",
   "metadata": {
    "scrolled": false
   },
   "outputs": [],
   "source": [
    "from sklearn.metrics import f1_score, precision_score, recall_score, accuracy_score\n",
    "\n",
    "eventClasses = ['Normal','R2L']\n",
    "eventClassesInd = [0,1]\n",
    "\n",
    "y_train_comb_prob = (yprob_train_dos + yprob_train_probe + yprob_train_u2r_r2l)/3\n",
    "y_cv_comb_prob    = (yprob_cv_dos + yprob_cv_probe + yprob_cv_u2r_r2l)/3\n",
    "y_test_comb_prob  = (yprob_test_dos + yprob_test_probe + yprob_test_u2r_r2l)/3"
   ]
  },
  {
   "cell_type": "code",
   "execution_count": 777,
   "id": "b7bf0014",
   "metadata": {
    "scrolled": false
   },
   "outputs": [
    {
     "data": {
      "image/png": "[encoded data removed]",
      "text/plain": [
       "<Figure size 432x288 with 1 Axes>"
      ]
     },
     "metadata": {
      "needs_background": "light"
     },
     "output_type": "display_data"
    }
   ],
   "source": [
    "#Metric analyses for the cv dataset for different thresholds\n",
    "%matplotlib inline\n",
    "#y_cv_dos == y_cv_prob == y_cv_u2r_r2l\n",
    "analyseThresholds(y_cv_dos,y_cv_comb_prob,np.arange(1e-4,0.95,5e-3))"
   ]
  },
  {
   "cell_type": "code",
   "execution_count": 559,
   "id": "b9fc46bf",
   "metadata": {},
   "outputs": [
    {
     "data": {
      "text/html": [
       "<div>\n",
       "<style scoped>\n",
       "    .dataframe tbody tr th:only-of-type {\n",
       "        vertical-align: middle;\n",
       "    }\n",
       "\n",
       "    .dataframe tbody tr th {\n",
       "        vertical-align: top;\n",
       "    }\n",
       "\n",
       "    .dataframe thead th {\n",
       "        text-align: right;\n",
       "    }\n",
       "</style>\n",
       "<table border=\"1\" class=\"dataframe\">\n",
       "  <thead>\n",
       "    <tr style=\"text-align: right;\">\n",
       "      <th></th>\n",
       "      <th>Trainning</th>\n",
       "      <th>CV</th>\n",
       "      <th>Test</th>\n",
       "    </tr>\n",
       "  </thead>\n",
       "  <tbody>\n",
       "    <tr>\n",
       "      <th>Accuracy</th>\n",
       "      <td>0.997039</td>\n",
       "      <td>0.999960</td>\n",
       "      <td>0.840357</td>\n",
       "    </tr>\n",
       "    <tr>\n",
       "      <th>TPR</th>\n",
       "      <td>1.000000</td>\n",
       "      <td>1.000000</td>\n",
       "      <td>0.879373</td>\n",
       "    </tr>\n",
       "    <tr>\n",
       "      <th>FPR</th>\n",
       "      <td>0.005539</td>\n",
       "      <td>0.000074</td>\n",
       "      <td>0.211204</td>\n",
       "    </tr>\n",
       "    <tr>\n",
       "      <th>AUC</th>\n",
       "      <td>0.997231</td>\n",
       "      <td>0.999963</td>\n",
       "      <td>0.834085</td>\n",
       "    </tr>\n",
       "    <tr>\n",
       "      <th>F1 Score</th>\n",
       "      <td>0.996829</td>\n",
       "      <td>0.999957</td>\n",
       "      <td>0.862471</td>\n",
       "    </tr>\n",
       "    <tr>\n",
       "      <th>Precisão</th>\n",
       "      <td>0.993678</td>\n",
       "      <td>0.999914</td>\n",
       "      <td>0.846206</td>\n",
       "    </tr>\n",
       "  </tbody>\n",
       "</table>\n",
       "</div>"
      ],
      "text/plain": [
       "          Trainning        CV      Test\n",
       "Accuracy   0.997039  0.999960  0.840357\n",
       "TPR        1.000000  1.000000  0.879373\n",
       "FPR        0.005539  0.000074  0.211204\n",
       "AUC        0.997231  0.999963  0.834085\n",
       "F1 Score   0.996829  0.999957  0.862471\n",
       "Precisão   0.993678  0.999914  0.846206"
      ]
     },
     "execution_count": 559,
     "metadata": {},
     "output_type": "execute_result"
    }
   ],
   "source": [
    "y_train_comb_pred = y_train_comb_prob > 0.02\n",
    "y_cv_comb_pred    = y_cv_comb_prob > 0.1\n",
    "y_test_comb_pred  = y_test_comb_prob > 0.1\n",
    "\n",
    "printMetrics([(y_train_dos,y_train_comb_pred),\n",
    "              (y_cv_dos,y_cv_comb_pred),\n",
    "              (y_test_dos,y_test_comb_pred)],\n",
    "             [\"Trainning\",\"CV\",\"Test\"])"
   ]
  },
  {
   "cell_type": "code",
   "execution_count": 778,
   "id": "d3e74af9",
   "metadata": {},
   "outputs": [
    {
     "data": {
      "text/html": [
       "<div>\n",
       "<style scoped>\n",
       "    .dataframe tbody tr th:only-of-type {\n",
       "        vertical-align: middle;\n",
       "    }\n",
       "\n",
       "    .dataframe tbody tr th {\n",
       "        vertical-align: top;\n",
       "    }\n",
       "\n",
       "    .dataframe thead th {\n",
       "        text-align: right;\n",
       "    }\n",
       "</style>\n",
       "<table border=\"1\" class=\"dataframe\">\n",
       "  <thead>\n",
       "    <tr style=\"text-align: right;\">\n",
       "      <th></th>\n",
       "      <th>Trainning</th>\n",
       "      <th>CV</th>\n",
       "      <th>Test</th>\n",
       "    </tr>\n",
       "  </thead>\n",
       "  <tbody>\n",
       "    <tr>\n",
       "      <th>Accuracy</th>\n",
       "      <td>0.993709</td>\n",
       "      <td>0.961064</td>\n",
       "      <td>0.771203</td>\n",
       "    </tr>\n",
       "    <tr>\n",
       "      <th>TPR</th>\n",
       "      <td>0.999936</td>\n",
       "      <td>0.998032</td>\n",
       "      <td>0.996338</td>\n",
       "    </tr>\n",
       "    <tr>\n",
       "      <th>FPR</th>\n",
       "      <td>0.011721</td>\n",
       "      <td>0.070931</td>\n",
       "      <td>0.526310</td>\n",
       "    </tr>\n",
       "    <tr>\n",
       "      <th>AUC</th>\n",
       "      <td>0.994108</td>\n",
       "      <td>0.963550</td>\n",
       "      <td>0.735014</td>\n",
       "    </tr>\n",
       "    <tr>\n",
       "      <th>F1 Score</th>\n",
       "      <td>0.993292</td>\n",
       "      <td>0.959651</td>\n",
       "      <td>0.832151</td>\n",
       "    </tr>\n",
       "    <tr>\n",
       "      <th>Precisão</th>\n",
       "      <td>0.986735</td>\n",
       "      <td>0.924113</td>\n",
       "      <td>0.714421</td>\n",
       "    </tr>\n",
       "  </tbody>\n",
       "</table>\n",
       "</div>"
      ],
      "text/plain": [
       "          Trainning        CV      Test\n",
       "Accuracy   0.993709  0.961064  0.771203\n",
       "TPR        0.999936  0.998032  0.996338\n",
       "FPR        0.011721  0.070931  0.526310\n",
       "AUC        0.994108  0.963550  0.735014\n",
       "F1 Score   0.993292  0.959651  0.832151\n",
       "Precisão   0.986735  0.924113  0.714421"
      ]
     },
     "execution_count": 778,
     "metadata": {},
     "output_type": "execute_result"
    }
   ],
   "source": [
    "from sklearn.metrics import f1_score, precision_score, recall_score, accuracy_score\n",
    "\n",
    "eventClasses = ['Normal','R2L']\n",
    "eventClassesInd = [0,1]\n",
    "\n",
    "yh_train_comb = yh_train_dos | yh_train_probe | yh_train_u2r_r2l\n",
    "yh_cv_comb    = yh_cv_dos | yh_cv_probe | yh_cv_u2r_r2l\n",
    "yh_test_comb  = yh_test_dos | yh_test_probe | yh_test_u2r_r2l\n",
    "\n",
    "printMetrics([(y_train_dos,yh_train_comb),(y_cv_dos,yh_cv_comb),(y_test_dos,yh_test_comb)],[\"Trainning\",\"CV\",\"Test\"])"
   ]
  },
  {
   "cell_type": "markdown",
   "id": "fe6d9a86",
   "metadata": {},
   "source": [
    "# Classificação Binária (Ataque - Normal)"
   ]
  },
  {
   "cell_type": "markdown",
   "id": "166cc146",
   "metadata": {},
   "source": [
    "## Random Forest"
   ]
  },
  {
   "cell_type": "code",
   "execution_count": 512,
   "id": "d1532106",
   "metadata": {},
   "outputs": [],
   "source": [
    "#(x_train_bin, y_train_bin) = (df_train_complete_sc[features_sc], df_train_complete_sc.class2)\n",
    "\n",
    "(x_train_bin, y_train_bin) = (df_train_complete2[features_sc], df_train_complete2.class2)\n",
    "\n",
    "#(x_train_bin, y_train_bin) = (df_train_sc[features_sc], df_train_sc.class2)\n",
    "\n",
    "(x_cv_bin, y_cv_bin) = (df_cv_sc[features_sc], df_cv_sc.class2)\n",
    "\n",
    "(x_test_bin, y_test_bin) = (df_test_sc[features_sc], df_test_sc.class2)"
   ]
  },
  {
   "cell_type": "code",
   "execution_count": 513,
   "id": "f56f75aa",
   "metadata": {},
   "outputs": [],
   "source": [
    "from sklearn.ensemble import RandomForestClassifier\n",
    "\n",
    "rf_clf = RandomForestClassifier(n_estimators=400, max_depth=20, random_state=10000)\n",
    "rf_clf.fit(x_train_bin,y_train_bin)\n",
    "\n",
    "beep()"
   ]
  },
  {
   "cell_type": "code",
   "execution_count": 514,
   "id": "61996db1",
   "metadata": {},
   "outputs": [],
   "source": [
    "yprob_train_bin = rf_clf.predict_proba(x_train_bin)[:,1]\n",
    "yprob_cv_bin    = rf_clf.predict_proba(x_cv_bin)[:,1]\n",
    "yprob_test_bin  = rf_clf.predict_proba(x_test_bin)[:,1]"
   ]
  },
  {
   "cell_type": "code",
   "execution_count": 518,
   "id": "6c7633d5",
   "metadata": {},
   "outputs": [
    {
     "data": {
      "image/png": "[encoded data removed]",
      "text/plain": [
       "<Figure size 432x288 with 1 Axes>"
      ]
     },
     "metadata": {
      "needs_background": "light"
     },
     "output_type": "display_data"
    }
   ],
   "source": [
    "from sklearn.metrics import accuracy_score, roc_curve, roc_auc_score, f1_score, precision_score\n",
    "\n",
    "#Metric analyses for the cv dataset for different thresholds\n",
    "%matplotlib inline\n",
    "analyseThresholds(y_cv_bin,yprob_cv_bin,np.arange(1e-4,0.95,5e-3))"
   ]
  },
  {
   "cell_type": "code",
   "execution_count": 519,
   "id": "170a356f",
   "metadata": {},
   "outputs": [
    {
     "data": {
      "text/html": [
       "<div>\n",
       "<style scoped>\n",
       "    .dataframe tbody tr th:only-of-type {\n",
       "        vertical-align: middle;\n",
       "    }\n",
       "\n",
       "    .dataframe tbody tr th {\n",
       "        vertical-align: top;\n",
       "    }\n",
       "\n",
       "    .dataframe thead th {\n",
       "        text-align: right;\n",
       "    }\n",
       "</style>\n",
       "<table border=\"1\" class=\"dataframe\">\n",
       "  <thead>\n",
       "    <tr style=\"text-align: right;\">\n",
       "      <th></th>\n",
       "      <th>Trainning</th>\n",
       "      <th>CV</th>\n",
       "      <th>Test</th>\n",
       "    </tr>\n",
       "  </thead>\n",
       "  <tbody>\n",
       "    <tr>\n",
       "      <th>Accuracy</th>\n",
       "      <td>0.999762</td>\n",
       "      <td>0.999921</td>\n",
       "      <td>0.857922</td>\n",
       "    </tr>\n",
       "    <tr>\n",
       "      <th>TPR</th>\n",
       "      <td>0.999642</td>\n",
       "      <td>0.999829</td>\n",
       "      <td>0.894802</td>\n",
       "    </tr>\n",
       "    <tr>\n",
       "      <th>FPR</th>\n",
       "      <td>0.000134</td>\n",
       "      <td>0.000000</td>\n",
       "      <td>0.190815</td>\n",
       "    </tr>\n",
       "    <tr>\n",
       "      <th>AUC</th>\n",
       "      <td>0.999754</td>\n",
       "      <td>0.999914</td>\n",
       "      <td>0.851994</td>\n",
       "    </tr>\n",
       "    <tr>\n",
       "      <th>F1 Score</th>\n",
       "      <td>0.999744</td>\n",
       "      <td>0.999914</td>\n",
       "      <td>0.877603</td>\n",
       "    </tr>\n",
       "    <tr>\n",
       "      <th>Precisão</th>\n",
       "      <td>0.999846</td>\n",
       "      <td>1.000000</td>\n",
       "      <td>0.861053</td>\n",
       "    </tr>\n",
       "  </tbody>\n",
       "</table>\n",
       "</div>"
      ],
      "text/plain": [
       "          Trainning        CV      Test\n",
       "Accuracy   0.999762  0.999921  0.857922\n",
       "TPR        0.999642  0.999829  0.894802\n",
       "FPR        0.000134  0.000000  0.190815\n",
       "AUC        0.999754  0.999914  0.851994\n",
       "F1 Score   0.999744  0.999914  0.877603\n",
       "Precisão   0.999846  1.000000  0.861053"
      ]
     },
     "execution_count": 519,
     "metadata": {},
     "output_type": "execute_result"
    }
   ],
   "source": [
    "from sklearn.metrics import f1_score, precision_score, recall_score, accuracy_score, roc_curve, roc_auc_score\n",
    "\n",
    "yh_train_bin = yprob_train_bin > 0.4\n",
    "yh_cv_bin    = yprob_cv_bin > 0.4\n",
    "yh_test_bin  = yprob_test_bin > 0.27\n",
    "\n",
    "printMetrics([(y_train_bin,yh_train_bin),(y_cv_bin,yh_cv_bin),(y_test_bin,yh_test_bin)],[\"Trainning\",\"CV\",\"Test\"])"
   ]
  },
  {
   "cell_type": "markdown",
   "id": "6e7df4d9",
   "metadata": {},
   "source": [
    "## Rede Neural<a id='nn_bin'></a>"
   ]
  },
  {
   "cell_type": "markdown",
   "id": "9b7d6a73",
   "metadata": {},
   "source": [
    "### Treinamento"
   ]
  },
  {
   "cell_type": "code",
   "execution_count": null,
   "id": "32a8ddb3",
   "metadata": {},
   "outputs": [],
   "source": [
    "from tensorflow.keras.models import Sequential\n",
    "from tensorflow.keras.layers import Flatten, Dense, Dropout, BatchNormalization\n",
    "from tensorflow.keras.metrics import Precision, Recall"
   ]
  },
  {
   "cell_type": "code",
   "execution_count": null,
   "id": "b343f84f",
   "metadata": {
    "scrolled": true
   },
   "outputs": [],
   "source": [
    "'''\n",
    "nnclass_bin     = Sequential([Dense(1024, activation=\"relu\"),\n",
    "                              BatchNormalization(),\n",
    "                              Dropout(0.01),\n",
    "                              Dense(768, activation=\"relu\"),\n",
    "                              BatchNormalization(),\n",
    "                              Dropout(0.01),\n",
    "                              Dense(512, activation=\"relu\"),\n",
    "                              BatchNormalization(),\n",
    "                              Dropout(0.01),\n",
    "                              Dense(256, activation=\"relu\"),\n",
    "                              BatchNormalization(),\n",
    "                              Dropout(0.01),\n",
    "                              Dense(128, activation=\"relu\"),\n",
    "                              BatchNormalization(),\n",
    "                              Dropout(0.01),\n",
    "                              Dense(1, activation=\"sigmoid\")])\n",
    "\n",
    "metrics = [\"accuracy\"]\n",
    "nnclass_bin.compile(loss=\"binary_crossentropy\", optimizer=\"adam\", metrics=metrics)\n",
    "\n",
    "epochs = 500\n",
    "verbose=1\n",
    "history_bin = nnclass_bin.fit(x_train_bin,y_train_bin, epochs=epochs, batch_size=64, verbose=verbose)\n",
    "'''\n",
    "None"
   ]
  },
  {
   "cell_type": "code",
   "execution_count": null,
   "id": "562247c9",
   "metadata": {},
   "outputs": [],
   "source": [
    "nnclass_bin     = Sequential([Dense(1024, activation=\"relu\"),\n",
    "                              BatchNormalization(),\n",
    "                              Dropout(0.01),\n",
    "                              Dense(1, activation=\"sigmoid\")])\n",
    "\n",
    "metrics = [\"accuracy\"]\n",
    "nnclass_bin.compile(loss=\"binary_crossentropy\", optimizer=\"adam\", metrics=metrics)\n",
    "\n",
    "epochs = 2\n",
    "verbose=1\n",
    "history_bin = nnclass_bin.fit(x_train_bin,y_train_bin, epochs=epochs, batch_size=64, verbose=verbose)"
   ]
  },
  {
   "cell_type": "markdown",
   "id": "a93f1b49",
   "metadata": {},
   "source": [
    "### Avaliação"
   ]
  },
  {
   "cell_type": "code",
   "execution_count": null,
   "id": "59585b35",
   "metadata": {},
   "outputs": [],
   "source": [
    "from sklearn.metrics import f1_score, precision_recall_fscore_support\n",
    "\n",
    "eventClasses = ['Normal','Ataque']\n",
    "eventClassesInd = [0,1]\n",
    "\n",
    "threshold = 0.1\n",
    "yh_test_bin = (nnclass_bin.predict(x_test_bin) > threshold).astype(int)\n",
    "#yh_test_bin = np.argmax(yh_test_bin,axis=1)\n",
    "\n",
    "yh_train_bin = (nnclass_bin.predict(x_train_bin) > threshold).astype(int)\n",
    "#yh_train_bin = np.argmax(yh_train_bin,axis=1)\n",
    "\n",
    "#Acuracia\n",
    "accTrain = accuracy_score(y_train_bin,yh_train_bin)\n",
    "accTest = accuracy_score(y_test_bin,yh_test_bin)\n",
    "\n",
    "#Recall\n",
    "recTrain = recall_score(y_train_bin,yh_train_bin)\n",
    "recTest  = recall_score(y_test_bin,yh_test_bin)\n",
    "\n",
    "#Precision\n",
    "precTrain = precision_score(y_train_bin,yh_train_bin)\n",
    "precTest  = precision_score(y_test_bin,yh_test_bin)\n",
    "\n",
    "#f1 score\n",
    "f1Train = f1_score(y_train_bin,yh_train_bin)\n",
    "f1Test  = f1_score(y_test_bin,yh_test_bin)\n",
    "\n",
    "trainMetrics = np.array([accTrain, recTrain, precTrain, f1Train])\n",
    "testMetrics  = np.array([accTest, recTest, precTest, f1Test])\n",
    "\n",
    "table = pd.DataFrame()\n",
    "table['Treinamento'] = trainMetrics\n",
    "table['Teste'] = testMetrics\n",
    "table.index = [\"Acurácia\", \"Revocação\", \"Precisão\",\"F1 Score\"]\n",
    "table"
   ]
  },
  {
   "cell_type": "code",
   "execution_count": null,
   "id": "4f2a9279",
   "metadata": {
    "scrolled": true
   },
   "outputs": [],
   "source": [
    "pd.crosstab(y_test_bin, yh_test_bin.flatten(), rownames=['Actual attacks'], colnames=['Predicted attacks'])"
   ]
  }
 ],
 "metadata": {
  "kernelspec": {
   "display_name": "Python 3",
   "language": "python",
   "name": "python3"
  },
  "language_info": {
   "codemirror_mode": {
    "name": "ipython",
    "version": 3
   },
   "file_extension": ".py",
   "mimetype": "text/x-python",
   "name": "python",
   "nbconvert_exporter": "python",
   "pygments_lexer": "ipython3",
   "version": "3.9.2"
  }
 },
 "nbformat": 4,
 "nbformat_minor": 5
}
